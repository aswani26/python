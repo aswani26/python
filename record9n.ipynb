{
 "cells": [
  {
   "cell_type": "code",
   "execution_count": 14,
   "id": "a7530d96",
   "metadata": {},
   "outputs": [
    {
     "name": "stdout",
     "output_type": "stream",
     "text": [
      "enter 5 students name:revi,raju,renu,rimi,rinu\n",
      "enter 5 roll numbers:3,4,5,6,7\n",
      "dictionary: {'3': 'revi', '4': 'raju', '5': 'renu', '6': 'rimi', '7': 'rinu'}\n",
      "ascending order  {'3': 'revi', '4': 'raju', '5': 'renu', '6': 'rimi', '7': 'rinu'}\n",
      "decending order  {'7': 'rinu', '6': 'rimi', '5': 'renu', '4': 'raju', '3': 'revi'}\n"
     ]
    }
   ],
   "source": [
    "#accept 5 students names and roll numbers and map them into dictionary.\n",
    "students=input(\"enter 5 students name:\").split(\",\")\n",
    "stu=input(\"enter 5 roll numbers:\").split(\",\")\n",
    "my_dict=dict(zip(stu,students))\n",
    "print(\"dictionary:\",my_dict)\n",
    "ac=dict(sorted(my_dict.items()))\n",
    "print(\"ascending order \",ac)\n",
    "de=dict(sorted(my_dict.items(),reverse=True))\n",
    "print(\"decending order \",de)"
   ]
  },
  {
   "cell_type": "code",
   "execution_count": 17,
   "id": "9f555f89",
   "metadata": {},
   "outputs": [
    {
     "name": "stdout",
     "output_type": "stream",
     "text": [
      "enter three students name :renu,raju,evi\n",
      "enter three roll number:3,4,5\n",
      "dictionary: {'renu': '3', 'raju': '4', 'evi': '5'}\n",
      "enter two students name :rimi,rinu\n",
      "enter two roll number:3,4\n",
      "dictionary: {'rimi': '3', 'rinu': '4'}\n",
      "merge 2 dictionaries {'renu': '3', 'raju': '4', 'evi': '5', 'rimi': '3', 'rinu': '4'}\n"
     ]
    }
   ],
   "source": [
    "#accept 2 dictionaries merge 2 dictionaries and display it\n",
    "dict1=input(\"enter three students name :\").split(\",\")\n",
    "dict2=input(\"enter three roll number:\").split(\",\")\n",
    "my_dict=dict(zip(dict1,dict2))\n",
    "print(\"dictionary:\",my_dict)\n",
    "dict3=input(\"enter two students name :\").split(\",\")\n",
    "dict4=input(\"enter two roll number:\").split(\",\")\n",
    "my_dict1=dict(zip(dict3,dict4))\n",
    "print(\"dictionary:\",my_dict1)\n",
    "my_dict.update(my_dict1)\n",
    "print(\"merge 2 dictionaries\",my_dict)"
   ]
  },
  {
   "cell_type": "code",
   "execution_count": null,
   "id": "e7e211ce",
   "metadata": {},
   "outputs": [],
   "source": []
  },
  {
   "cell_type": "code",
   "execution_count": null,
   "id": "d59d03fb",
   "metadata": {},
   "outputs": [],
   "source": []
  }
 ],
 "metadata": {
  "kernelspec": {
   "display_name": "Python 3 (ipykernel)",
   "language": "python",
   "name": "python3"
  },
  "language_info": {
   "codemirror_mode": {
    "name": "ipython",
    "version": 3
   },
   "file_extension": ".py",
   "mimetype": "text/x-python",
   "name": "python",
   "nbconvert_exporter": "python",
   "pygments_lexer": "ipython3",
   "version": "3.11.5"
  }
 },
 "nbformat": 4,
 "nbformat_minor": 5
}
