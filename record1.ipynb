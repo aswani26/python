
{
 "cells": [
  {
   "cell_type": "code",
   "execution_count": 11,
   "id": "d6558101",
   "metadata": {},
   "outputs": [
    {
     "name": "stdout",
     "output_type": "stream",
     "text": [
      "enter the radius of circle:2\n",
      "the area of a circle is: 12.56\n"
     ]
    }
   ],
   "source": [
    "#integer\n",
    "import math\n",
    "radius=float(input(\"enter the radius of circle:\"))\n",
    "pi=3.14\n",
    "area= pi*radius*radius\n",
    "print(\"the area of a circle is:\",area)"
   ]
  },
  {
   "cell_type": "code",
   "execution_count": 12,
   "id": "ba879311",
   "metadata": {},
   "outputs": [
    {
     "name": "stdout",
     "output_type": "stream",
     "text": [
      "enter an number:5\n",
      "5 + 55 + 555 = 615\n"
     ]
    }
   ],
   "source": [
    "#radius of a circle and compute area\n",
    "import math\n",
    "num=int(input(\"enter an number:\"))\n",
    "n=num\n",
    "nn=n*10+n\n",
    "nnn=n*100+nn\n",
    "sum=n+nn+nnn\n",
    "print(n,\"+\",nn,\"+\",nnn,\"=\",sum)\n"
   ]
  },
  {
   "cell_type": "code",
   "execution_count": null,
   "id": "51b3ebe8",
   "metadata": {},
   "outputs": [],
   "source": []
  }
 ],
 "metadata": {
  "kernelspec": {
   "display_name": "Python 3 (ipykernel)",
   "language": "python",
   "name": "python3"
  },
  "language_info": {
   "codemirror_mode": {
    "name": "ipython",
    "version": 3
   },
   "file_extension": ".py",
   "mimetype": "text/x-python",
   "name": "python",
   "nbconvert_exporter": "python",
   "pygments_lexer": "ipython3",
   "version": "3.11.5"
  }
 },
 "nbformat": 4,
 "nbformat_minor": 5
}
