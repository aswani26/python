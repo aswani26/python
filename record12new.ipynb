{
 "cells": [
  {
   "cell_type": "code",
   "execution_count": 12,
   "id": "ff3c69a9",
   "metadata": {},
   "outputs": [
    {
     "name": "stdout",
     "output_type": "stream",
     "text": [
      "enter some integer numbers:2,-3,4\n",
      "positive numbers : [2, 4]\n",
      "squre of numbers: [4, 16]\n"
     ]
    }
   ],
   "source": [
    "# list comprehensions positive list of numbers\n",
    "numbers=list(map(int,input(\"enter some integer numbers:\").split(\",\")))\n",
    "postive_num=[x for x in numbers if x>0]\n",
    "print(\"positive numbers :\",postive_num)\n",
    "#squre of numbers\n",
    "squre=[x**2 for x in postive_num]\n",
    "print(\"squre of numbers:\",squre)\n"
   ]
  },
  {
   "cell_type": "code",
   "execution_count": 9,
   "id": "274b1bea",
   "metadata": {},
   "outputs": [
    {
     "name": "stdout",
     "output_type": "stream",
     "text": [
      "enter a word:sinu\n",
      "vowels in word : ['i', 'u']\n"
     ]
    }
   ],
   "source": [
    "#list of vowels\n",
    "v=input(\"enter a word:\")\n",
    "vo=[a.lower()for a in v if a in \"aeiou\"]\n",
    "print(\"vowels in word :\",vo)\n"
   ]
  },
  {
   "cell_type": "code",
   "execution_count": 11,
   "id": "b549799f",
   "metadata": {},
   "outputs": [
    {
     "name": "stdout",
     "output_type": "stream",
     "text": [
      "Enter a word: java\n",
      "Ordinal elements: [106, 97, 118, 97]\n"
     ]
    }
   ],
   "source": [
    "#list ordinal value of each element of a word\n",
    "o = input(\"Enter a word: \")\n",
    "ordinal = [ord(e) for e in o]\n",
    "print(\"Ordinal elements:\", ordinal)\n"
   ]
  },
  {
   "cell_type": "code",
   "execution_count": null,
   "id": "b740ee46",
   "metadata": {},
   "outputs": [],
   "source": []
  }
 ],
 "metadata": {
  "kernelspec": {
   "display_name": "Python 3 (ipykernel)",
   "language": "python",
   "name": "python3"
  },
  "language_info": {
   "codemirror_mode": {
    "name": "ipython",
    "version": 3
   },
   "file_extension": ".py",
   "mimetype": "text/x-python",
   "name": "python",
   "nbconvert_exporter": "python",
   "pygments_lexer": "ipython3",
   "version": "3.11.5"
  }
 },
 "nbformat": 4,
 "nbformat_minor": 5
}
