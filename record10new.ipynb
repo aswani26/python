{
 "cells": [
  {
   "cell_type": "code",
   "execution_count": 26,
   "id": "9e6efd86",
   "metadata": {},
   "outputs": [
    {
     "name": "stdout",
     "output_type": "stream",
     "text": [
      "enter integers list1:2 3 4 5\n",
      "enter integers list2:2 5 4 3\n",
      "list1= [2, 3, 4, 5]\n",
      "list2= [2, 5, 4, 3]\n",
      "list are same length\n",
      "list sum to same value\n",
      "any value occur in both: {2, 3, 4, 5}\n"
     ]
    }
   ],
   "source": [
    "#enter two list of integers.check list are same length,list sum to same value,any value occur in both\n",
    "list1=list(map(int,input(\"enter integers list1:\").split()))\n",
    "list2=list(map(int,input(\"enter integers list2:\").split()))\n",
    "print(\"list1=\",list1)\n",
    "print(\"list2=\",list2)\n",
    "if len(list1)==len(list2):\n",
    "    print(\"list are same length\")\n",
    "else:\n",
    "    print(\"list are different length\")\n",
    "if sum(list1)==sum(list2):\n",
    "    print(\"list sum to same value\")\n",
    "else:\n",
    "    print(\"list sum to different value\")\n",
    "c=set(list1)&set(list2)\n",
    "if c:\n",
    "    print(\"any value occur in both:\",c)\n",
    "else:\n",
    "    print(\"no value occur in both\")\n",
    "    \n"
   ]
  },
  {
   "cell_type": "code",
   "execution_count": 24,
   "id": "33ee0f96",
   "metadata": {},
   "outputs": [
    {
     "name": "stdout",
     "output_type": "stream",
     "text": [
      "input a stringsweat\n",
      "new word sweating\n"
     ]
    }
   ],
   "source": [
    "#add 'ing'at end of string.if it already end with 'ing'then add 'ly'\n",
    "a=input(\"input a string\")\n",
    "if(a.endswith(\"ing\")):\n",
    "    print(\"new word\",a+\"ly\")\n",
    "else:\n",
    "    print(\"new word\",a+\"ing\")"
   ]
  },
  {
   "cell_type": "code",
   "execution_count": null,
   "id": "bb369dc6",
   "metadata": {},
   "outputs": [],
   "source": []
  }
 ],
 "metadata": {
  "kernelspec": {
   "display_name": "Python 3 (ipykernel)",
   "language": "python",
   "name": "python3"
  },
  "language_info": {
   "codemirror_mode": {
    "name": "ipython",
    "version": 3
   },
   "file_extension": ".py",
   "mimetype": "text/x-python",
   "name": "python",
   "nbconvert_exporter": "python",
   "pygments_lexer": "ipython3",
   "version": "3.11.5"
  }
 },
 "nbformat": 4,
 "nbformat_minor": 5
}
