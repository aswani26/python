{
 "cells": [
  {
   "cell_type": "code",
   "execution_count": 6,
   "id": "92464354",
   "metadata": {},
   "outputs": [
    {
     "name": "stdout",
     "output_type": "stream",
     "text": [
      "5.0\n"
     ]
    }
   ],
   "source": [
    "#import math\n",
    "number=25\n",
    "result=math.sqrt(number)\n",
    "print(result)"
   ]
  },
  {
   "cell_type": "code",
   "execution_count": 8,
   "id": "dd33c64a",
   "metadata": {},
   "outputs": [
    {
     "name": "stdout",
     "output_type": "stream",
     "text": [
      "5\n",
      "4\n"
     ]
    }
   ],
   "source": [
    "#import math\n",
    "num=4.5\n",
    "print(math.ceil(num))\n",
    "print(math.floor(num))"
   ]
  },
  {
   "cell_type": "code",
   "execution_count": 17,
   "id": "7e130fde",
   "metadata": {},
   "outputs": [
    {
     "name": "stdout",
     "output_type": "stream",
     "text": [
      "enter the length a side of the square:5\n",
      "the area of squre is 25.0\n"
     ]
    }
   ],
   "source": [
    "#AREA OF A SQUARE\n",
    "import math\n",
    "side=float(input(\"enter the length a side of the square:\"))\n",
    "area=side*side\n",
    "print(\"the area of squre is\",area)"
   ]
  },
  {
   "cell_type": "code",
   "execution_count": 2,
   "id": "8a5d1f54",
   "metadata": {},
   "outputs": [],
   "source": [
    "from math import sqrt,pi"
   ]
  },
  {
   "cell_type": "code",
   "execution_count": 5,
   "id": "6792f241",
   "metadata": {},
   "outputs": [
    {
     "name": "stdout",
     "output_type": "stream",
     "text": [
      "enter the base of a triangle5\n",
      "enter the height of the height5\n",
      "the area of right angled triangle is: 12.5\n"
     ]
    }
   ],
   "source": [
    "import math\n",
    "base=float(input(\"enter the base of a triangle\"))\n",
    "height=float(input(\"enter the height of the height\"))\n",
    "area=0.5*base*height\n",
    "print(\"the area of right angled triangle is:\",area)"
   ]
  },
  {
   "cell_type": "code",
   "execution_count": 8,
   "id": "bbbd1694",
   "metadata": {},
   "outputs": [
    {
     "name": "stdout",
     "output_type": "stream",
     "text": [
      "Hello,harry!\n"
     ]
    }
   ],
   "source": [
    "print(\"Hello,harry!\")"
   ]
  },
  {
   "cell_type": "code",
   "execution_count": 12,
   "id": "9e6a6f35",
   "metadata": {},
   "outputs": [
    {
     "name": "stdout",
     "output_type": "stream",
     "text": [
      "enter an integer:10\n",
      "previous number: 9\n",
      "next number: 11\n"
     ]
    }
   ],
   "source": [
    "import math\n",
    "num=int(input(\"enter an integer:\"))\n",
    "print(\"previous number:\",num-1)\n",
    "print(\"next number:\",num+1)\n"
   ]
  },
  {
   "cell_type": "code",
   "execution_count": 15,
   "id": "f12b7892",
   "metadata": {},
   "outputs": [
    {
     "name": "stdout",
     "output_type": "stream",
     "text": [
      "enter the principal amunt:345\n",
      "enter the rate of interest:456\n",
      "enter the time:3\n",
      "the simple interest:  4719.6\n"
     ]
    }
   ],
   "source": [
    "p=float(input(\"enter the principal amunt:\"))\n",
    "r=float(input(\"enter the rate of interest:\"))\n",
    "t=float(input(\"enter the time:\"))\n",
    "si=(p*r*t)/100\n",
    "print(\"the simple interest: \",si)"
   ]
  },
  {
   "cell_type": "code",
   "execution_count": null,
   "id": "4d8273fe",
   "metadata": {},
   "outputs": [],
   "source": []
  },
  {
   "cell_type": "code",
   "execution_count": null,
   "id": "cdb56ef7",
   "metadata": {},
   "outputs": [],
   "source": []
  },
  {
   "cell_type": "code",
   "execution_count": null,
   "id": "f495ce9c",
   "metadata": {},
   "outputs": [],
   "source": []
  }
 ],
 "metadata": {
  "kernelspec": {
   "display_name": "Python 3 (ipykernel)",
   "language": "python",
   "name": "python3"
  },
  "language_info": {
   "codemirror_mode": {
    "name": "ipython",
    "version": 3
   },
   "file_extension": ".py",
   "mimetype": "text/x-python",
   "name": "python",
   "nbconvert_exporter": "python",
   "pygments_lexer": "ipython3",
   "version": "3.11.5"
  }
 },
 "nbformat": 4,
 "nbformat_minor": 5
}
