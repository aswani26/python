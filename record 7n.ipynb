{
 "cells": [
  {
   "cell_type": "code",
   "execution_count": 1,
   "id": "d7ddbf4d",
   "metadata": {},
   "outputs": [
    {
     "name": "stdout",
     "output_type": "stream",
     "text": [
      "list is: [2, 4, 6, 8, 10, 12, 14, 16, 18, 20, 22, 24]\n",
      "sum is: 156\n"
     ]
    }
   ],
   "source": [
    "# even numbers and sum\n",
    "r1=range(2,26,2)\n",
    "print(\"list is:\",list(r1))\n",
    "total=sum(list(r1))\n",
    "print(\"sum is:\",total)"
   ]
  },
  {
   "cell_type": "code",
   "execution_count": 3,
   "id": "6546b2e6",
   "metadata": {},
   "outputs": [
    {
     "name": "stdout",
     "output_type": "stream",
     "text": [
      "enter a range=5\n",
      "the numbers in reverse is (5, 4, 3, 2, 1)\n",
      "the sum of the reversed numbers= 15\n"
     ]
    }
   ],
   "source": [
    "#print in reverse and caliculate sum\n",
    "num=int(input(\"enter a range=\"))\n",
    "a=(tuple(range(num,0,-1)))\n",
    "print(\"the numbers in reverse is\",a)\n",
    "s=sum(a)\n",
    "print(\"the sum of the reversed numbers=\",s)"
   ]
  },
  {
   "cell_type": "code",
   "execution_count": null,
   "id": "6594b6f2",
   "metadata": {},
   "outputs": [],
   "source": []
  }
 ],
 "metadata": {
  "kernelspec": {
   "display_name": "Python 3 (ipykernel)",
   "language": "python",
   "name": "python3"
  },
  "language_info": {
   "codemirror_mode": {
    "name": "ipython",
    "version": 3
   },
   "file_extension": ".py",
   "mimetype": "text/x-python",
   "name": "python",
   "nbconvert_exporter": "python",
   "pygments_lexer": "ipython3",
   "version": "3.11.5"
  }
 },
 "nbformat": 4,
 "nbformat_minor": 5
}
