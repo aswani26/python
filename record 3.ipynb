{
 "cells": [
  {
   "cell_type": "code",
   "execution_count": 1,
   "id": "e6d4f2a7",
   "metadata": {},
   "outputs": [
    {
     "name": "stdout",
     "output_type": "stream",
     "text": [
      "enter first number2\n",
      "enter second number4\n",
      "enter third number2\n",
      "the biggest number is: 4\n"
     ]
    }
   ],
   "source": [
    "#biggest of three numbers use max()\n",
    "a=int(input(\"enter first number\"))\n",
    "b=int(input(\"enter second number\"))\n",
    "c=int(input(\"enter third number\"))\n",
    "biggest=max(a,b,c)\n",
    "print(\"the biggest number is:\",biggest)"
   ]
  },
  {
   "cell_type": "code",
   "execution_count": null,
   "id": "9db6025e",
   "metadata": {},
   "outputs": [],
   "source": []
  }
 ],
 "metadata": {
  "kernelspec": {
   "display_name": "Python 3 (ipykernel)",
   "language": "python",
   "name": "python3"
  },
  "language_info": {
   "codemirror_mode": {
    "name": "ipython",
    "version": 3
   },
   "file_extension": ".py",
   "mimetype": "text/x-python",
   "name": "python",
   "nbconvert_exporter": "python",
   "pygments_lexer": "ipython3",
   "version": "3.11.5"
  }
 },
 "nbformat": 4,
 "nbformat_minor": 5
}
