{
 "cells": [
  {
   "cell_type": "code",
   "execution_count": 1,
   "id": "cb504623",
   "metadata": {},
   "outputs": [
    {
     "name": "stdout",
     "output_type": "stream",
     "text": [
      "enter colors  list comma separated :red,black,blue\n",
      "the given list is: red,black,blue\n",
      "['red', 'black', 'blue']\n",
      "the first color is: red\n",
      "the last color is: blue\n"
     ]
    }
   ],
   "source": [
    "#list of colors separated by comma & display first and last colors\n",
    "color=input(\"enter colors  list comma separated :\")\n",
    "print(\"the given list is:\",color)\n",
    "c =color.split(\",\")\n",
    "print(c)\n",
    "print(\"the first color is:\",c[0])\n",
    "print(\"the last color is:\",c[-1])"
   ]
  },
  {
   "cell_type": "code",
   "execution_count": 22,
   "id": "ba53c8e0",
   "metadata": {},
   "outputs": [
    {
     "name": "stdout",
     "output_type": "stream",
     "text": [
      "enter a filename:aswani.py\n",
      "extension of this file is: py\n"
     ]
    }
   ],
   "source": [
    "#accept a filename and print its extension\n",
    "file=input(\"enter a filename:\")\n",
    "ext=file.split(\".\")\n",
    "text=ext[-1]\n",
    "print(\"extension of this file is:\",text)"
   ]
  },
  {
   "cell_type": "code",
   "execution_count": 1,
   "id": "8e147f5f",
   "metadata": {},
   "outputs": [
    {
     "name": "stdout",
     "output_type": "stream",
     "text": [
      "enter 5 numbers:2 4 5 2 1\n",
      "list is: [2, 4, 5, 2, 1]\n",
      "sum is: 14\n"
     ]
    }
   ],
   "source": [
    "#acept seq.comma seprate no.from user and generte list&find\n",
    "num=input(\"enter 5 numbers:\")\n",
    "new=list(map(int,num.split()))\n",
    "total=sum(new)\n",
    "print(\"list is:\",new)\n",
    "print(\"sum is:\",total)\n",
    "\n"
   ]
  },
  {
   "cell_type": "code",
   "execution_count": null,
   "id": "a72e5c34",
   "metadata": {},
   "outputs": [],
   "source": []
  }
 ],
 "metadata": {
  "kernelspec": {
   "display_name": "Python 3 (ipykernel)",
   "language": "python",
   "name": "python3"
  },
  "language_info": {
   "codemirror_mode": {
    "name": "ipython",
    "version": 3
   },
   "file_extension": ".py",
   "mimetype": "text/x-python",
   "name": "python",
   "nbconvert_exporter": "python",
   "pygments_lexer": "ipython3",
   "version": "3.11.5"
  }
 },
 "nbformat": 4,
 "nbformat_minor": 5
}
