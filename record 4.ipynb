{
 "cells": [
  {
   "cell_type": "code",
   "execution_count": 7,
   "id": "b1d8a274",
   "metadata": {},
   "outputs": [
    {
     "name": "stdout",
     "output_type": "stream",
     "text": [
      "enter a stringmanassery\n",
      "converted string is  yanasserm\n"
     ]
    }
   ],
   "source": [
    "#exchange first and last char\n",
    "s=str(input(\"enter a string\"))\n",
    "rev=s[-1]+s[1:-1]+s[0]\n",
    "print(\"converted string is \",rev)"
   ]
  },
  {
   "cell_type": "code",
   "execution_count": 15,
   "id": "0887e67d",
   "metadata": {},
   "outputs": [
    {
     "name": "stdout",
     "output_type": "stream",
     "text": [
      "enter a string:aswani\n",
      "first 2 and last 2 char of these string is: asni\n"
     ]
    }
   ],
   "source": [
    "#string of first2 and last 2 chars\n",
    "a=str(input(\"enter a string:\"))\n",
    "r=a[0]+a[1]+a[-2]+a[-1]\n",
    "print(\"first 2 and last 2 char of these string is:\",r)"
   ]
  },
  {
   "cell_type": "code",
   "execution_count": 10,
   "id": "b370a18b",
   "metadata": {},
   "outputs": [
    {
     "name": "stdout",
     "output_type": "stream",
     "text": [
      "enter first string:mukkam\n",
      "enter second string:manassery\n",
      "The output is: makkam munassery\n"
     ]
    }
   ],
   "source": [
    "#single string from 2 given &swap\n",
    "s1=str(input(\"enter first string:\"))\n",
    "s2=str(input(\"enter second string:\"))\n",
    "news1=s2[:2]+s1[2:]\n",
    "news2=s1[:2]+s2[2:]\n",
    "result=news1+\" \"+news2\n",
    "print (\"The output is:\",result)"
   ]
  },
  {
   "cell_type": "code",
   "execution_count": 13,
   "id": "d46403b8",
   "metadata": {},
   "outputs": [
    {
     "name": "stdout",
     "output_type": "stream",
     "text": [
      "enter a string:blackblue\n",
      "converted string is : black$lue\n"
     ]
    }
   ],
   "source": [
    "#first charater changed to $ in a string except first char\n",
    "s=str(input(\"enter a string:\"))\n",
    "n=s[0]\n",
    "r=n+s[1:].replace(n,\"$\")\n",
    "print (\"converted string is :\",r)\n"
   ]
  },
  {
   "cell_type": "code",
   "execution_count": null,
   "id": "936ab582",
   "metadata": {},
   "outputs": [],
   "source": []
  },
  {
   "cell_type": "code",
   "execution_count": null,
   "id": "85ee04dd",
   "metadata": {},
   "outputs": [],
   "source": []
  }
 ],
 "metadata": {
  "kernelspec": {
   "display_name": "Python 3 (ipykernel)",
   "language": "python",
   "name": "python3"
  },
  "language_info": {
   "codemirror_mode": {
    "name": "ipython",
    "version": 3
   },
   "file_extension": ".py",
   "mimetype": "text/x-python",
   "name": "python",
   "nbconvert_exporter": "python",
   "pygments_lexer": "ipython3",
   "version": "3.11.5"
  }
 },
 "nbformat": 4,
 "nbformat_minor": 5
}
