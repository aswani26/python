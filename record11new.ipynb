{
 "cells": [
  {
   "cell_type": "code",
   "execution_count": 1,
   "id": "dc3a542c",
   "metadata": {},
   "outputs": [
    {
     "name": "stdout",
     "output_type": "stream",
     "text": [
      "enter line of text:my name is kk my father name Is gk\n",
      "my : 2\n",
      "name : 2\n",
      "is : 2\n",
      "gk : 1\n",
      "kk : 1\n",
      "father : 1\n"
     ]
    }
   ],
   "source": [
    "#count the occurance of each word in a line of text\n",
    "words=input(\"enter line of text:\").lower().split()\n",
    "words_1=set(words)\n",
    "for word in words_1:\n",
    "    count=words.count(word)\n",
    "    print(word,\":\",count)"
   ]
  },
  {
   "cell_type": "code",
   "execution_count": 10,
   "id": "34fc2a7e",
   "metadata": {},
   "outputs": [
    {
     "name": "stdout",
     "output_type": "stream",
     "text": [
      "integers list:23,45,101,200\n",
      "result is: [23, 45, 'over', 'over']\n"
     ]
    }
   ],
   "source": [
    "#list of integers.all values greter  than 100 .store'over'instead.\n",
    "num=input(\"integers list:\").split(\",\")\n",
    "num_1=[]\n",
    "for n in num:\n",
    "    n=int(n)\n",
    "    if n>100:\n",
    "        num_1.append(\"over\")\n",
    "    else:\n",
    "        num_1.append(n)\n",
    "print(\"result is:\",num_1)\n",
    "                  \n",
    "\n"
   ]
  },
  {
   "cell_type": "code",
   "execution_count": 17,
   "id": "4284c293",
   "metadata": {},
   "outputs": [
    {
     "name": "stdout",
     "output_type": "stream",
     "text": [
      "first names:sinu,manu,anu\n",
      "total occurence is: 2\n"
     ]
    }
   ],
   "source": [
    "#list of first names.count the occurance of'a'within the list\n",
    "names=input(\"first names:\").split(\",\")\n",
    "count=0\n",
    "for name in names:\n",
    "    name_1=name.lower()\n",
    "    count=count+name_1.count(\"a\")\n",
    "print(\"total occurence is:\",count)"
   ]
  },
  {
   "cell_type": "code",
   "execution_count": 7,
   "id": "d25e24b3",
   "metadata": {},
   "outputs": [
    {
     "name": "stdout",
     "output_type": "stream",
     "text": [
      "enter first number:4\n",
      "enter second number:2\n",
      "gcd is 2\n"
     ]
    }
   ],
   "source": [
    "#gcd of 2 numbers\n",
    "n1=int(input(\"enter first number:\"))\n",
    "n2=int(input(\"enter second number:\"))\n",
    "while n2!=0:\n",
    "    n1,n2=n2,n1%n2\n",
    "print(\"gcd is\",n1)"
   ]
  },
  {
   "cell_type": "code",
   "execution_count": 2,
   "id": "46851f49",
   "metadata": {},
   "outputs": [
    {
     "name": "stdout",
     "output_type": "stream",
     "text": [
      "list of numbers1,2,3,4,5\n",
      "the original list is: [1, 2, 3, 4, 5]\n",
      "the list without even num: [1, 3, 5]\n"
     ]
    }
   ],
   "source": [
    "#list of integers,create list removing even numbers\n",
    "num=input(\"list of numbers\").split(\",\")\n",
    "num_1=list(map(int,num))\n",
    "odd_num=[]\n",
    "for n in num_1:\n",
    "    if n % 2 !=0:\n",
    "        odd_num.append(n)\n",
    "print(\"the original list is:\",num_1)\n",
    "print(\"the list without even num:\",odd_num)"
   ]
  },
  {
   "cell_type": "code",
   "execution_count": 4,
   "id": "a1b7c559",
   "metadata": {},
   "outputs": [
    {
     "name": "stdout",
     "output_type": "stream",
     "text": [
      "enter a number5\n",
      "factorial of number 5 is: 120\n"
     ]
    }
   ],
   "source": [
    "#program to find the factorial of number\n",
    "num=int(input(\"enter a number\"))\n",
    "fact=1\n",
    "for i in range(1,num+1):\n",
    "    fact=fact*i\n",
    "print(\"factorial of number\",num,\"is:\",fact)"
   ]
  },
  {
   "cell_type": "code",
   "execution_count": 24,
   "id": "5eeefcf6",
   "metadata": {},
   "outputs": [
    {
     "name": "stdout",
     "output_type": "stream",
     "text": [
      "enter a number:5\n",
      "fibonacci series with 5 terms:\n",
      "[0, 1, 1, 2, 3]\n"
     ]
    }
   ],
   "source": [
    "#fibonacci series of n terms\n",
    "n=int(input(\"enter a number:\"))\n",
    "a,b =0,1\n",
    "fib_series=[]\n",
    "for i in range(n):\n",
    "    fib_series.append(a)\n",
    "    a,b = b,a+b\n",
    "print(\"fibonacci series with\",n,\"terms:\")\n",
    "print(fib_series)\n"
   ]
  },
  {
   "cell_type": "code",
   "execution_count": 9,
   "id": "3f2ce92a",
   "metadata": {},
   "outputs": [
    {
     "name": "stdout",
     "output_type": "stream",
     "text": [
      "enter numbers:2,3,4,5\n",
      "the total numbers is: 14\n"
     ]
    }
   ],
   "source": [
    "#find the sum of all items in a list\n",
    "num=input(\"enter numbers:\").split(\",\")\n",
    "num_1=list(map(int,num))\n",
    "sum=0\n",
    "for i in  num_1:\n",
    "    sum=sum+i\n",
    "print(\"the total numbers is:\",sum)"
   ]
  },
  {
   "cell_type": "code",
   "execution_count": 31,
   "id": "130ce068",
   "metadata": {},
   "outputs": [
    {
     "name": "stdout",
     "output_type": "stream",
     "text": [
      "enter the start of the range:2000\n",
      "enter the end of range:8000\n",
      "numbers with all even digit and perfect square: [4624, 6084, 6400]\n"
     ]
    }
   ],
   "source": [
    "#list of four digit numbers in a given range with all their digits even and the numbers is perfect squre\n",
    "import math\n",
    "start=int(input(\"enter the start of the range:\"))\n",
    "end=int(input(\"enter the end of range:\"))\n",
    "result=[]\n",
    "for num in range(start,end+1):\n",
    "    if all(int(digit)%2==0 for  digit in str(num)):\n",
    "        if int(math.sqrt(num))**2==num:\n",
    "            result.append(num)\n",
    "print(\"numbers with all even digit and perfect square:\",result)\n",
    "        \n"
   ]
  },
  {
   "cell_type": "code",
   "execution_count": 14,
   "id": "ac8ad352",
   "metadata": {},
   "outputs": [
    {
     "name": "stdout",
     "output_type": "stream",
     "text": [
      "enter a string:sahva fatima\n",
      "frequency of number is: {'s': 1, 'a': 4, 'h': 1, 'v': 1, 'f': 1, 't': 1, 'i': 1, 'm': 1}\n"
     ]
    }
   ],
   "source": [
    "#count the numbers of characters(charaters frequency)in a string\n",
    "text = input(\"enter a string:\")\n",
    "text_nospace = text.replace(\" \", \"\")\n",
    "f = {}\n",
    "for char in text_nospace:\n",
    "    f[char] = f.get(char, 0) + 1\n",
    "print(\"frequency of number is:\", f)\n"
   ]
  },
  {
   "cell_type": "code",
   "execution_count": 22,
   "id": "5556f7b9",
   "metadata": {},
   "outputs": [
    {
     "name": "stdout",
     "output_type": "stream",
     "text": [
      "enter a number:4\n",
      "1 \n",
      "2 4 \n",
      "3 6 9 \n",
      "4 8 12 16 \n"
     ]
    }
   ],
   "source": [
    "#display the given pyramid with step number accepted from user\n",
    "n=int(input(\"enter a number:\"))\n",
    "for i in range(1,n+1):\n",
    "    for y in range(1,i+1):\n",
    "        print(i*y,end=\" \")\n",
    "    print()"
   ]
  },
  {
   "cell_type": "code",
   "execution_count": null,
   "id": "d7f1412d",
   "metadata": {},
   "outputs": [],
   "source": []
  },
  {
   "cell_type": "code",
   "execution_count": null,
   "id": "c5f4cc34",
   "metadata": {},
   "outputs": [],
   "source": []
  }
 ],
 "metadata": {
  "kernelspec": {
   "display_name": "Python 3 (ipykernel)",
   "language": "python",
   "name": "python3"
  },
  "language_info": {
   "codemirror_mode": {
    "name": "ipython",
    "version": 3
   },
   "file_extension": ".py",
   "mimetype": "text/x-python",
   "name": "python",
   "nbconvert_exporter": "python",
   "pygments_lexer": "ipython3",
   "version": "3.11.5"
  }
 },
 "nbformat": 4,
 "nbformat_minor": 5
}
