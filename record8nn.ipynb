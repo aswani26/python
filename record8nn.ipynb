{
 "cells": [
  {
   "cell_type": "code",
   "execution_count": 10,
   "id": "c4cc3c11",
   "metadata": {},
   "outputs": [
    {
     "name": "stdout",
     "output_type": "stream",
     "text": [
      "enter some colors=red black blue\n",
      "enter some colors=red orange yellow\n",
      " set 1=  {'red', 'black', 'blue'}\n",
      "set 2=  {'red', 'yellow', 'orange'}\n",
      " differance =  {'black', 'blue'}\n"
     ]
    }
   ],
   "source": [
    "#printout all colors from colorset 1not contained\n",
    "colorset1=set(input(\"enter some colors=\").split())\n",
    "colorset2=set(input(\"enter some colors=\").split())\n",
    "print(\" set 1= \",colorset1)\n",
    "print(\"set 2= \",colorset2)\n",
    "nonfav=colorset1-colorset2\n",
    "print(\" differance = \",nonfav)"
   ]
  },
  {
   "cell_type": "code",
   "execution_count": 5,
   "id": "d3cbf41e",
   "metadata": {},
   "outputs": [
    {
     "name": "stdout",
     "output_type": "stream",
     "text": [
      "enter some colors=red black blue\n",
      "enter some other colors=green orange yellow\n",
      "set1=  {'red', 'black', 'blue'}\n",
      "set2=  {'green', 'orange', 'yellow'}\n",
      "merged colors=  {'green', 'orange', 'yellow', 'black', 'blue', 'red'}\n"
     ]
    }
   ],
   "source": [
    "#printout all colors from color set 1 and color set2\n",
    "colorset1=set(input(\"enter some colors=\").split())\n",
    "colorset2=set(input(\"enter some other colors=\").split())\n",
    "print(\"set1= \",colorset1)\n",
    "print(\"set2= \",colorset2)\n",
    "nonfav=colorset1|colorset2\n",
    "print(\"merged colors= \",nonfav)"
   ]
  },
  {
   "cell_type": "code",
   "execution_count": null,
   "id": "1e915d51",
   "metadata": {},
   "outputs": [],
   "source": []
  }
 ],
 "metadata": {
  "kernelspec": {
   "display_name": "Python 3 (ipykernel)",
   "language": "python",
   "name": "python3"
  },
  "language_info": {
   "codemirror_mode": {
    "name": "ipython",
    "version": 3
   },
   "file_extension": ".py",
   "mimetype": "text/x-python",
   "name": "python",
   "nbconvert_exporter": "python",
   "pygments_lexer": "ipython3",
   "version": "3.11.5"
  }
 },
 "nbformat": 4,
 "nbformat_minor": 5
}
