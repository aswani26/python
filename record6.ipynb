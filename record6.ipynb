{
 "cells": [
  {
   "cell_type": "code",
   "execution_count": 16,
   "id": "725e29e5",
   "metadata": {},
   "outputs": [
    {
     "name": "stdout",
     "output_type": "stream",
     "text": [
      "enter the numbers=1,2,3,4,5,6,7\n",
      "tuple is= (1, 2, 3, 4, 5, 6, 7)\n",
      "3rd element is= 3 3rd element from last is 5\n"
     ]
    }
   ],
   "source": [
    "#3rd element and 3rd element from last\n",
    "a=input(\"enter the numbers=\")\n",
    "numbers=tuple(map(int,a.split(\",\")))\n",
    "print(\"tuple is=\",numbers)\n",
    "b=numbers[2]\n",
    "d=numbers[-3]\n",
    "print(\"3rd element is=\",b,\"3rd element from last is\",d)\n"
   ]
  },
  {
   "cell_type": "code",
   "execution_count": 20,
   "id": "a5f96953",
   "metadata": {},
   "outputs": [
    {
     "name": "stdout",
     "output_type": "stream",
     "text": [
      "enter numbers:2,3,4,5\n",
      "tuple is= (2, 3, 4, 5)\n",
      "avg value of tuple is: 3.5\n"
     ]
    }
   ],
   "source": [
    "#write a python program which accepts a seq. of comma seperated numbers from user and generate a tuple\n",
    "a=input(\"enter numbers:\")\n",
    "numbers=tuple(map(int,a.split(\",\")))\n",
    "print(\"tuple is=\",numbers)\n",
    "b=sum(numbers)\n",
    "d=len(numbers)\n",
    "print(\"avg value of tuple is:\",b/d)"
   ]
  },
  {
   "cell_type": "code",
   "execution_count": null,
   "id": "adfa8c82",
   "metadata": {},
   "outputs": [],
   "source": []
  },
  {
   "cell_type": "code",
   "execution_count": null,
   "id": "51660476",
   "metadata": {},
   "outputs": [],
   "source": []
  },
  {
   "cell_type": "code",
   "execution_count": null,
   "id": "5fb75d14",
   "metadata": {},
   "outputs": [],
   "source": []
  }
 ],
 "metadata": {
  "kernelspec": {
   "display_name": "Python 3 (ipykernel)",
   "language": "python",
   "name": "python3"
  },
  "language_info": {
   "codemirror_mode": {
    "name": "ipython",
    "version": 3
   },
   "file_extension": ".py",
   "mimetype": "text/x-python",
   "name": "python",
   "nbconvert_exporter": "python",
   "pygments_lexer": "ipython3",
   "version": "3.11.5"
  }
 },
 "nbformat": 4,
 "nbformat_minor": 5
}
