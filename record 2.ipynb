{
 "cells": [
  {
   "cell_type": "code",
   "execution_count": 2,
   "id": "d951e1c3",
   "metadata": {},
   "outputs": [
    {
     "name": "stdout",
     "output_type": "stream",
     "text": [
      "enter the celsius value:32\n",
      "the fahrenheit value is: 89.6\n"
     ]
    }
   ],
   "source": [
    "#celsius to fahrenheit\n",
    "c=float(input(\"enter the celsius value:\"))\n",
    "f=c*9/5+32\n",
    "print(\"the fahrenheit value is:\",f)"
   ]
  },
  {
   "cell_type": "code",
   "execution_count": 8,
   "id": "9a398738",
   "metadata": {},
   "outputs": [
    {
     "name": "stdout",
     "output_type": "stream",
     "text": [
      "enter kilometer:20\n",
      "converted mile value is: 12.43\n"
     ]
    }
   ],
   "source": [
    "#kilometer to miles\n",
    "k=float(input(\"enter kilometer:\"))\n",
    "m=k* 0.621371\n",
    "print(\"converted mile value is:\",round(m,2))"
   ]
  },
  {
   "cell_type": "code",
   "execution_count": null,
   "id": "3d7e8192",
   "metadata": {},
   "outputs": [],
   "source": []
  },
  {
   "cell_type": "code",
   "execution_count": null,
   "id": "974dd28b",
   "metadata": {},
   "outputs": [],
   "source": []
  }
 ],
 "metadata": {
  "kernelspec": {
   "display_name": "Python 3 (ipykernel)",
   "language": "python",
   "name": "python3"
  },
  "language_info": {
   "codemirror_mode": {
    "name": "ipython",
    "version": 3
   },
   "file_extension": ".py",
   "mimetype": "text/x-python",
   "name": "python",
   "nbconvert_exporter": "python",
   "pygments_lexer": "ipython3",
   "version": "3.11.5"
  }
 },
 "nbformat": 4,
 "nbformat_minor": 5
}
